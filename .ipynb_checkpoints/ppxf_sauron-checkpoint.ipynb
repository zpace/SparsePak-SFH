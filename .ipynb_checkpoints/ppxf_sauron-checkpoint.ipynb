{
 "metadata": {
  "name": ""
 },
 "nbformat": 3,
 "nbformat_minor": 0,
 "worksheets": [
  {
   "cells": [
    {
     "cell_type": "code",
     "collapsed": false,
     "input": [
      "from astropy.io import fits\n",
      "import scipy\n",
      "from scipy import ndimage\n",
      "import numpy as np\n",
      "import glob\n",
      "\n",
      "from ppxf import ppxf\n",
      "import ppxf_util as util"
     ],
     "language": "python",
     "metadata": {},
     "outputs": [],
     "prompt_number": 1
    },
    {
     "cell_type": "code",
     "collapsed": false,
     "input": [
      "directory = 'spectra/'\n",
      "file = directory + 'NGC4550_SAURON.fits'\n",
      "\n",
      "hdu = fits.open(file)\n",
      "#print dir(hdu[0].header)\n",
      "#print hdu[0].header.keys\n",
      "#print hdu[0].data\n",
      "print 'CRVAL1', hdu[0].header['CRVAL1'] # CRVAL1 is the wavelength at the reference pixel (Angstroms)\n",
      "print 'CDELT1', hdu[0].header['CDELT1'] # CDELT1 is the increment for the wavelength grid (Angstroms)\n",
      "print 'NAXIS1', hdu[0].header['NAXIS1'] # NAXIS1 is the number of values in the spectrum\n",
      "\n",
      "h1 = hdu[0].header\n",
      "h1['CRVAL1'] + np.array([0.,h1['CDELT1']*(h1['NAXIS1']-1)])"
     ],
     "language": "python",
     "metadata": {},
     "outputs": [
      {
       "output_type": "stream",
       "stream": "stdout",
       "text": [
        "CRVAL1 4824.6\n",
        "CDELT1 1.1\n",
        "NAXIS1 415\n"
       ]
      },
      {
       "metadata": {},
       "output_type": "pyout",
       "prompt_number": 8,
       "text": [
        "array([ 4824.6,  5280. ])"
       ]
      }
     ],
     "prompt_number": 8
    },
    {
     "cell_type": "code",
     "collapsed": false,
     "input": [],
     "language": "python",
     "metadata": {},
     "outputs": []
    }
   ],
   "metadata": {}
  }
 ]
}