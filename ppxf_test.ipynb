{
 "cells": [
  {
   "cell_type": "code",
   "execution_count": 42,
   "metadata": {
    "collapsed": true
   },
   "outputs": [],
   "source": [
    "import numpy as np\n",
    "import ppxf\n",
    "import ppxf_util as util\n",
    "from astropy.table import Table, Column\n",
    "from astropy.io import fits, ascii\n",
    "from glob import glob\n",
    "\n",
    "from SPaCT import plusminus\n",
    "\n",
    "import matplotlib.pyplot as plt\n",
    "from scipy import ndimage"
   ]
  },
  {
   "cell_type": "code",
   "execution_count": 93,
   "metadata": {
    "collapsed": false
   },
   "outputs": [],
   "source": [
    "fluxcal = fits.open('UGC04344_fluxcal.fits')\n",
    "h_gal = fluxcal[0].header\n",
    "lamRange1 = np.array([h_gal['CRVAL1'], \n",
    "                      h_gal['CRVAL1'] + h_gal['CDELT1'] * (h_gal['NAXIS1'] - 1)])\n",
    "galaxy, logLam1, velscale = util.log_rebin(lamRange1, fluxcal[0].data[47])\n",
    "FWHM_gal = 4.877\n",
    "FWHM_tem = 1.5\n",
    "\n",
    "template_files = glob('miles_models/Mun*.fits')\n",
    "template_files = [i for i in template_files if float(i[-12:-5]) < 13.5]\n",
    "\n",
    "hdu = fits.open(template_files[0])\n",
    "ssp = hdu[0].data\n",
    "h2 = hdu[0].header\n",
    "lamRange2 = h2['CRVAL1'] + np.array([0., h2['CDELT1']*(h2['NAXIS1']-1)])\n",
    "\n",
    "hdu = fits.open(template_files[0])\n",
    "ssp = hdu[0].data\n",
    "h2 = hdu[0].header\n",
    "lamRange2 = h2['CRVAL1'] + np.array([0., h2['CDELT1']*(h2['NAXIS1']-1)])\n",
    "sspNew, logLam2, velscale = util.log_rebin(lamRange2, ssp, velscale=velscale)\n",
    "templates = np.empty((sspNew.size, len(template_files)))\n",
    "\n",
    "ssp_rows = []\n",
    "\n",
    "for template in template_files:\n",
    "    template = template.rstrip('.fits').split('/')[1]\n",
    "\n",
    "    spectral_range = template[0]\n",
    "    IMF_type = template[1:3]\n",
    "    IMF_slope = float(template[3:7])\n",
    "    Z = plusminus(template[8])*float(template[9:13])\n",
    "    T = float(template[14:])\n",
    "    ssp_i = [template, spectral_range, IMF_type, IMF_slope, Z, T]\n",
    "    ssp_rows.append(ssp_i)\n",
    "    \n",
    "FWHM_dif = np.sqrt(FWHM_gal**2 - FWHM_tem**2)\n",
    "sigma = FWHM_dif/2.355/h2['CDELT1']  # Sigma difference in pixels\n",
    "    \n",
    "ssps = Table(\n",
    "    map(\n",
    "        list, zip(*ssp_rows)),\n",
    "    names=['template name', 'spectral range', 'IMF type', 'IMF slope', 'Z', 't'])\n",
    "ssps.sort(['Z', 't'])\n",
    "\n",
    "template_prefix = template_files[0].split('/')[0]\n",
    "template_files = ssps['template name']\n",
    "\n",
    "for j in range(len(template_files)):\n",
    "    hdu = fits.open(template_prefix + '/' + template_files[j] + '.fits')\n",
    "    ssp = hdu[0].data\n",
    "    ssp = ndimage.gaussian_filter1d(ssp, sigma)\n",
    "    sspNew, logLam2, velscale = util.log_rebin(lamRange2, ssp, velscale=velscale)\n",
    "    templates[:, j] = sspNew"
   ]
  },
  {
   "cell_type": "code",
   "execution_count": 59,
   "metadata": {
    "collapsed": false
   },
   "outputs": [],
   "source": [
    "plt.close('all')\n",
    "\n",
    "nT = len(np.unique(ssps['t']))\n",
    "nZ = len(np.unique(ssps['Z']))\n",
    "\n",
    "f, axarr = plt.subplots(nT, nZ, figsize = (16, 12), sharex = 'col', sharey = 'row')\n",
    "\n",
    "for i, row in enumerate(ssps):\n",
    "    template = row['template name']\n",
    "    \n",
    "    ax = axarr[i%nT, i//nT]\n",
    "    plt.setp(ax.get_xticklabels(), fontsize=6)\n",
    "    plt.setp(ax.get_yticklabels(), fontsize=6)\n",
    "\n",
    "    if not ax.is_last_row():\n",
    "        plt.setp(ax.get_xticklabels(), visible=False)\n",
    "        ax.xaxis.set_tick_params(size=0)\n",
    "    else:\n",
    "        ax.set_xlabel(r'$Z$: {}'.format(row['Z']), size = 6)\n",
    "    if not ax.is_first_col():\n",
    "        plt.setp(ax.get_yticklabels(), visible=False)\n",
    "        ax.yaxis.set_tick_params(size=0)\n",
    "    else:\n",
    "        ax.set_ylabel(r'$\\tau$: {}'.format(row['t']), size = 6)\n",
    "        yticks = ax.yaxis.get_major_ticks()\n",
    "    ax.plot(np.exp(logLam2), templates[:, i]/np.median(templates), linewidth = 0.25, c = 'b')\n",
    "        \n",
    "plt.tight_layout()\n",
    "plt.subplots_adjust(hspace=0.25, wspace=0)\n",
    "plt.savefig('templates.png', dpi = 300)"
   ]
  },
  {
   "cell_type": "code",
   "execution_count": 95,
   "metadata": {
    "collapsed": false
   },
   "outputs": [],
   "source": [
    "template = ssps[(ssps['t'] == 12.5893) * (ssps['Z'] == 0.22)]\n",
    "\n",
    "hdu = fits.open(template_prefix + '/' + template_files[j] + '.fits')\n",
    "ssp = hdu[0].data\n",
    "ssp = ndimage.gaussian_filter1d(ssp, sigma)\n",
    "template, logLam2, velscale = util.log_rebin(lamRange2, ssp, velscale=velscale)\n",
    "\n",
    "plt.close('all')\n",
    "z = 0.0167887\n",
    "c = 299792.458\n",
    "template /= np.median(template)\n",
    "galaxy /= np.median(galaxy)\n",
    "plt.plot(np.exp(logLam2 + z), template, label = 'template', linewidth = 0.5)\n",
    "plt.plot(np.exp(logLam1), galaxy, label = 'galaxy', linewidth = 0.5)\n",
    "plt.legend(loc = 'best')\n",
    "plt.ylim([0., 2.])\n",
    "plt.show()"
   ]
  },
  {
   "cell_type": "code",
   "execution_count": null,
   "metadata": {
    "collapsed": true
   },
   "outputs": [],
   "source": []
  }
 ],
 "metadata": {
  "kernelspec": {
   "display_name": "Python 2",
   "language": "python",
   "name": "python2"
  },
  "language_info": {
   "codemirror_mode": {
    "name": "ipython",
    "version": 2
   },
   "file_extension": ".py",
   "mimetype": "text/x-python",
   "name": "python",
   "nbconvert_exporter": "python",
   "pygments_lexer": "ipython2",
   "version": "2.7.10"
  }
 },
 "nbformat": 4,
 "nbformat_minor": 0
}
